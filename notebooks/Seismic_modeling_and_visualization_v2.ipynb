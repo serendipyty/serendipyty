{
 "cells": [
  {
   "cell_type": "markdown",
   "metadata": {
    "code_folding": []
   },
   "source": [
    "# Acoustic seismic wave propagation with Serendipyty"
   ]
  },
  {
   "cell_type": "markdown",
   "metadata": {},
   "source": [
    "The purpose of this Jupyter notebook is to show how to set up and perform a simple acoustic wave propagation simulation using the Python package [Serendipyty](https://github.com/serendipyty/serendipyty). First, various standard Python packages are imported and their settings specified. Then, the temporal and spatial parameters for the simulation are definied. These parameters are then used to definte the inpute and out parameters and to create the models for the material properties (velocity and density for an acoustic medium). Finally, the simulation is created and the wavefields are displayed and animated. "
   ]
  },
  {
   "cell_type": "markdown",
   "metadata": {},
   "source": [
    "## Setup: matplotlib"
   ]
  },
  {
   "cell_type": "code",
   "execution_count": null,
   "metadata": {},
   "outputs": [],
   "source": [
    "%matplotlib inline\n",
    "\n",
    "import matplotlib as mpl\n",
    "import matplotlib.pyplot as plt\n",
    "from matplotlib import gridspec\n",
    "import matplotlib.animation as animation\n",
    "from IPython.display import HTML\n",
    "\n",
    "mpl.rc('image', interpolation='none')\n",
    "plt.rcParams['font.size'] = 14\n",
    "plt.rcParams['figure.constrained_layout.use'] = True\n",
    "\n",
    "# Get current size\n",
    "fig_size = plt.rcParams[\"figure.figsize\"]\n",
    "print(\"The current size of a figure is {}\".format(fig_size))"
   ]
  },
  {
   "cell_type": "markdown",
   "metadata": {},
   "source": [
    "## Setup: Import packages and set configuration parameters"
   ]
  },
  {
   "cell_type": "code",
   "execution_count": null,
   "metadata": {},
   "outputs": [],
   "source": [
    "# System\n",
    "import sys\n",
    "from timeit import default_timer as timer\n",
    "\n",
    "# HPC\n",
    "from joblib import Parallel, delayed\n",
    "import multiprocessing\n",
    "\n",
    "# Numerical\n",
    "import numpy as np\n",
    "\n",
    "# Set test to True for development phase\n",
    "test = True\n",
    "if test:\n",
    "    %load_ext autoreload\n",
    "    %autoreload 2\n",
    "    sys.dont_write_bytecode = True\n",
    "\n",
    "# Serendipyty\n",
    "from serendipyty.seismic.modelling import awe2d\n",
    "from serendipyty.seismic.modelling.bcs import PmlBc\n",
    "\n",
    "from serendipyty.seismic.utils.fd import stability\n",
    "from serendipyty.seismic.utils.fd import dispersion\n",
    "from serendipyty.seismic.utils.util import rectangle\n",
    "from serendipyty.seismic.utils.util import oneface\n",
    "\n",
    "from serendipyty.seismic.utils.dispersion import itdt3\n",
    "from serendipyty.seismic.input.wavelets import RickerWavelet\n",
    "from serendipyty.seismic.input.sources import PointSource\n",
    "from serendipyty.seismic.model.models import AcousticModel\n",
    "from serendipyty.seismic.hpc.hpc import BaseHpc\n",
    "\n",
    "# Pandas\n",
    "import pandas as pd\n",
    "\n",
    "# Set numerical precision\n",
    "DTYPE = np.float64"
   ]
  },
  {
   "cell_type": "markdown",
   "metadata": {},
   "source": [
    "## Spatial parameters"
   ]
  },
  {
   "cell_type": "code",
   "execution_count": null,
   "metadata": {},
   "outputs": [],
   "source": [
    "## Domain properties\n",
    "# Extent in # of cells\n",
    "nx = 201\n",
    "nz = 101\n",
    "# Sampling in m\n",
    "dx = DTYPE(5)\n",
    "dz = DTYPE(5)\n",
    "\n",
    "## Source\n",
    "# Source locations in m\n",
    "src_loc_m = np.array([600, 0, 250], dtype=DTYPE)\n",
    "# Source locations in grid point\n",
    "src_loc = np.array(src_loc_m/dx, dtype=np.uint)\n",
    "# Type: 'q' for monopole source, 'fx' or 'fz' for dipole source\n",
    "sourcetype = 'q'\n",
    "# Central frequency\n",
    "fc = DTYPE(30)\n",
    "\n",
    "## Absorbing boundary conditions\n",
    "# Size of absorbing boundary\n",
    "npml = 30\n",
    "\n",
    "# Create Perfectly Matched Layers (PMLs) bondary conditions class\n",
    "bc = PmlBc(npml=npml, freesurface=True)"
   ]
  },
  {
   "cell_type": "markdown",
   "metadata": {},
   "source": [
    "## Temporal parameters"
   ]
  },
  {
   "cell_type": "code",
   "execution_count": null,
   "metadata": {},
   "outputs": [],
   "source": [
    "# Duration of simulation in s\n",
    "tmax = 5.00\n",
    "# Sampling in s\n",
    "dt = DTYPE(0.001)\n",
    "# Number of time samples\n",
    "nt = int(tmax/dt)+1"
   ]
  },
  {
   "cell_type": "markdown",
   "metadata": {},
   "source": [
    "## Create spatial and temporal axes"
   ]
  },
  {
   "cell_type": "code",
   "execution_count": null,
   "metadata": {},
   "outputs": [],
   "source": [
    "x = np.arange(nx)*dx\n",
    "z = np.arange(nz)*dz\n",
    "t = np.arange(nt)*dt"
   ]
  },
  {
   "cell_type": "markdown",
   "metadata": {},
   "source": [
    "## Material parameters: simple layered model"
   ]
  },
  {
   "cell_type": "code",
   "execution_count": null,
   "metadata": {},
   "outputs": [],
   "source": [
    "# Velocity and density of first layer\n",
    "vp0 = 2000\n",
    "rho0 = 1000\n",
    "\n",
    "# Velocity and density ndarrays\n",
    "vp = np.ones((nx, nz), dtype=DTYPE)*vp0\n",
    "rho = np.ones((nx, nz), dtype=DTYPE)*rho0\n",
    "\n",
    "# Create second layer\n",
    "dip = 0.1\n",
    "inta = (-dip)*x + 150.0\n",
    "mask = np.zeros((nx,nz), dtype=np.bool)\n",
    "for i in range(nx):\n",
    "    mask[i, np.rint(inta[i]/dx).astype(int):] = True\n",
    "vp[mask] = 2500\n",
    "rho[mask] = 1500\n",
    "\n",
    "# Create third layer\n",
    "intb = 350\n",
    "vp[:,np.rint(intb/dx).astype(int):] = 2300\n",
    "rho[:,np.rint(intb/dx).astype(int):] = 1300\n",
    "\n",
    "# Create model class\n",
    "model = AcousticModel(dx, vp=vp, rho=rho)\n",
    "\n",
    "# Plot material parameters\n",
    "model.plot(extent=(x, z), colorbar=True, figsize=(15,3))"
   ]
  },
  {
   "cell_type": "markdown",
   "metadata": {},
   "source": [
    "## Dispersion and stability analysis"
   ]
  },
  {
   "cell_type": "markdown",
   "metadata": {},
   "source": [
    "The Courant number is used to restrict the time-step in explicit time-marching computer simulations. For example, if a wave is crossing a discrete grid distance ($\\Delta x$), then the time-step must be less than the time needed for the wave to travel to an adjacent grid point, otherwise the simulation will produce incorrect results. For 4th order spatial derivatives, the Courant number is $0.606$ and for stability the time discretization ($\\Delta t$) must satisfy\n",
    "\n",
    "$$\\Delta t \\leq \\frac{0.606 \\Delta x}{v_{max}},$$\n",
    "\n",
    "where $v_{max}$ is the highest velocity of the medium.\n",
    "\n",
    "Besides unstable solutions, wavefield dispersion also occurs because finite-difference schemes are intrinsically dispersive. The widespread rule of thumb *5 points per wavelength* is used to avoid dispersion. The grid discretization ($\\Delta x$) must satisfy\n",
    "\n",
    "$$\\Delta x \\le \\frac{v_{vim}}{5 f_{max}},$$\n",
    "\n",
    "where $v_{min}$ is the lowest velocity of the medium and $f_{max}$ the maximum frequency of the source wavelet."
   ]
  },
  {
   "cell_type": "code",
   "execution_count": null,
   "metadata": {},
   "outputs": [],
   "source": [
    "# Compute dispersion criterion\n",
    "dx_no_dispersion = dispersion(vp.min(), dx, fc, coeff=2.0)\n",
    "print('To avoid (strong) spatial dispersion, the spatial sampling dx should be < {:.6}m'.format(dx_no_dispersion))\n",
    "\n",
    "# Compute the stability criterion\n",
    "dt_stable = stability(vp.max(), dx, dt)\n",
    "print('To avoid an unstable simulation, the temporal sampling dt should be < {:.6}s'.format(dt_stable))\n",
    "\n",
    "# Verify that the criteria are not violated\n",
    "if dx < dx_no_dispersion and dt < dt_stable:\n",
    "    print('Woot woot! The sampling values dx={:.6}m and dt={:.6}s are good for this simulation!'.format(dx, dt))"
   ]
  },
  {
   "cell_type": "markdown",
   "metadata": {},
   "source": [
    "## Source"
   ]
  },
  {
   "cell_type": "markdown",
   "metadata": {},
   "source": [
    "The expression of the Ricker wavelet is $w(t) = (1 - 2 \\pi^2 f_c^2 t^2)exp(-\\pi^2 f_c^2 t^2)$, where $f_c$ is the central (peak) frequency."
   ]
  },
  {
   "cell_type": "code",
   "execution_count": null,
   "metadata": {},
   "outputs": [],
   "source": [
    "# Choose the wavelet\n",
    "wav = RickerWavelet(t, fc=fc, delay=0.05)\n",
    "\n",
    "# Choose the source type\n",
    "src = PointSource(src_loc, wav, 'q')\n",
    "\n",
    "# Plot the source wavelet\n",
    "line = src.plot(tmax=0.5)"
   ]
  },
  {
   "cell_type": "markdown",
   "metadata": {},
   "source": [
    "## Receivers along two horizontal surfaces"
   ]
  },
  {
   "cell_type": "code",
   "execution_count": null,
   "metadata": {},
   "outputs": [],
   "source": [
    "# Number of disjoint subdomains\n",
    "# Currently, it is possible to use only one domain\n",
    "# Extension to more domains is work in progress\n",
    "nsub = 1\n",
    "\n",
    "# Initialize arrays\n",
    "semt_origins = np.ndarray((nsub, 4), dtype=np.uint)\n",
    "srec_origins = np.ndarray((nsub, 4), dtype=np.uint)\n",
    "\n",
    "# order: xemt zemt nxemt nzemt\n",
    "semt_origins[0,:] = (0,  35,  nx,  nz-35)\n",
    "\n",
    "# number of gridpoints between recording and emitting surfaces\n",
    "ngpts = 2\n",
    "\n",
    "# order: xrec zrec nxrec nzrec\n",
    "srec_origins = semt_origins + np.array((0, ngpts, 0, 0), dtype=np.uint)\n",
    "\n",
    "# Locations\n",
    "# TO DO: this currently works fine because nsub is == 1\n",
    "# When nsub > 1, I need to concatenate the locations along axis=0\n",
    "# WARNING: the function oneface uses generator expressions\n",
    "# to create the numpy array of the locations.\n",
    "for i in range(nsub):\n",
    "    semt_locs = oneface(faces=(2,),\n",
    "                        origin=(semt_origins[i][0], 0, semt_origins[i][1]),\n",
    "                        number_of_cells=(semt_origins[i][2], 0, semt_origins[i][3]),\n",
    "                        cell_size=(1,1,1)\n",
    "                       )\n",
    "\n",
    "for i in range(nsub):\n",
    "    srec_locs = oneface(faces=(2,),\n",
    "                        origin=(srec_origins[i][0], 0, srec_origins[i][1]),\n",
    "                        number_of_cells=(srec_origins[i][2], 0, srec_origins[i][3]),\n",
    "                        cell_size=(1,1,1)\n",
    "                       )"
   ]
  },
  {
   "cell_type": "code",
   "execution_count": null,
   "metadata": {},
   "outputs": [],
   "source": [
    "# Create a Pandas DataFrame from the srec_locs array\n",
    "# This could be useful in the future\n",
    "df_srec_locs = pd.DataFrame(srec_locs)\n",
    "df_srec_locs.columns = ['x', 'y', 'z', 'face']\n",
    "df_srec_locs.head()"
   ]
  },
  {
   "cell_type": "markdown",
   "metadata": {},
   "source": [
    "## Define outputs"
   ]
  },
  {
   "cell_type": "code",
   "execution_count": null,
   "metadata": {},
   "outputs": [],
   "source": [
    "# Outputs are not implemented as a class yet.\n",
    "# We still need to finalize some of the output format\n",
    "# such as sub_volume_boundary.\n",
    "outparam = []\n",
    "# Wavefield snapshots\n",
    "outparam.append({'type': 'slice',\n",
    "                 'timestep_increment': 10\n",
    "                })\n",
    "# Pressure wavefield along the semt_locs\n",
    "outparam.append({'type': 'sub_volume_boundary',\n",
    "                'attribute': 'p',\n",
    "                'receiver_locations': semt_locs,\n",
    "                'stagger_on_sub_volume': True,\n",
    "                'timestep_increment': 10\n",
    "                })\n",
    "# Pressure wavefield along the srec_locs\n",
    "outparam.append({'type': 'sub_volume_boundary',\n",
    "                'attribute': 'vn',\n",
    "                'receiver_locations': srec_locs,\n",
    "                'stagger_on_sub_volume': True,\n",
    "                'timestep_increment': 10\n",
    "                })"
   ]
  },
  {
   "cell_type": "markdown",
   "metadata": {},
   "source": [
    "## HPC parameters"
   ]
  },
  {
   "cell_type": "code",
   "execution_count": null,
   "metadata": {},
   "outputs": [],
   "source": [
    "ncores = multiprocessing.cpu_count()\n",
    "print('This computer has {} cores'.format(ncores))"
   ]
  },
  {
   "cell_type": "code",
   "execution_count": null,
   "metadata": {},
   "outputs": [],
   "source": [
    "# HPC class\n",
    "hpc = BaseHpc(omp_num_threads=3)"
   ]
  },
  {
   "cell_type": "markdown",
   "metadata": {},
   "source": [
    "## Run simulation"
   ]
  },
  {
   "cell_type": "markdown",
   "metadata": {},
   "source": [
    "Finite-difference time-domain solution of the 2D acoustic wave equation implemented using [Cython](http://cython.org/) and [typed memoryviews](https://cython.readthedocs.io/en/latest/src/userguide/memoryviews.html).\n",
    "\n",
    "The acoustic forward solver of Serendipyty solves the 2D wave equation by approximating the derivatives\n",
    "in the wave equation by finite-differences. The acoustic wave equation is defined through the first-order linearized\n",
    "systems of Newton’s and Hooke’s law:\n",
    "\n",
    "$$\\frac{\\partial v_x}{\\partial t} = -\\frac{1}{\\rho}\\frac{\\partial p}{\\partial x}$$\n",
    "$$\\frac{\\partial v_z}{\\partial t} = -\\frac{1}{\\rho}\\frac{\\partial p}{\\partial z}$$\n",
    "$$\\frac{\\partial p}{\\partial t} = -v^2\\rho\\{\\frac{\\partial v_x}{\\partial x}+\\frac{\\partial v_z}{\\partial z}\\}$$\n",
    "\n",
    "where $v_x$ and $v_z$ are the particle velocity components in the $x$ and $z$-direction, respectively, $p$ is the acoustic pressure, $\\rho$ is the mass density of the medium and $v$ the velocity. The implemented Finite-Difference codes make use of a staggered grid and is following the grid layout as described in [Virieux (1986)](http://geodynamics.usc.edu/~becker/teaching/557/reading/Virieux1987.pdf).\n"
   ]
  },
  {
   "cell_type": "code",
   "execution_count": null,
   "metadata": {
    "scrolled": true
   },
   "outputs": [],
   "source": [
    "outputs = awe2d.forward(model,src,outparam,bc,hpc)"
   ]
  },
  {
   "cell_type": "markdown",
   "metadata": {},
   "source": [
    "### List outputs"
   ]
  },
  {
   "cell_type": "code",
   "execution_count": null,
   "metadata": {},
   "outputs": [],
   "source": [
    "print('The outputs are:')\n",
    "for out in outputs.keys():\n",
    "    print('- {}'.format(out))\n",
    "\n",
    "if 'sub_volume_boundary' in outputs.keys():\n",
    "    print('There are {} sub_volume_boundary outputs'.format(outputs['sub_volume_boundary'].shape[0]))"
   ]
  },
  {
   "cell_type": "markdown",
   "metadata": {},
   "source": [
    "## Plot wave field snapshot"
   ]
  },
  {
   "cell_type": "code",
   "execution_count": null,
   "metadata": {},
   "outputs": [],
   "source": [
    "# Add model in the background\n",
    "alpha = model.model[..., 0]\n",
    "slicealpha = outputs['slice'][0, ...] + (alpha[None, ...] - alpha.mean())/1"
   ]
  },
  {
   "cell_type": "code",
   "execution_count": null,
   "metadata": {},
   "outputs": [],
   "source": [
    "# Prepare figure\n",
    "\n",
    "# Figure\n",
    "figsize=(12, 5)\n",
    "ndim = 2\n",
    "fig, axs = plt.subplots(nrows=1, ncols=ndim, figsize=figsize, facecolor='w', edgecolor='k', squeeze=True)\n",
    "\n",
    "# Plot options\n",
    "clip=5e3\n",
    "extent=[0, x[-1], z[-1], 0]\n",
    "aspect='equal'\n",
    "cmap='seismic'\n",
    "plotopts0 = {\n",
    "    'vmin': -clip,\n",
    "    'vmax': +clip,\n",
    "    'aspect': aspect,\n",
    "    'cmap': cmap,\n",
    "    'animated': True,\n",
    "    'interpolation': 'bilinear',\n",
    "    'extent': extent\n",
    "}\n",
    "clip=1e3\n",
    "extent=[0, x[-1], t[1000], 0]\n",
    "aspect=5e2\n",
    "cmap='seismic'\n",
    "plotopts1 = {\n",
    "    'vmin': -clip,\n",
    "    'vmax': +clip,\n",
    "    'aspect': aspect,\n",
    "    'cmap': cmap,\n",
    "    'animated': True,\n",
    "    'interpolation': 'bilinear',\n",
    "    'extent': extent\n",
    "}\n",
    "i = 20\n",
    "im0 = axs[0].imshow(slicealpha[i, ...].T, **plotopts0)\n",
    "axs[0].scatter(srec_locs[5::10, 0]*dx, srec_locs[5::10, 2]*dz, color='k')\n",
    "im1 = axs[1].imshow(outputs['sub_volume_boundary'][0, :100, :], **plotopts1)\n",
    "\n",
    "axs[0].yaxis.set_label_text('Depth [m]')\n",
    "axs[1].yaxis.set_label_text('Time [s]')\n",
    "\n",
    "# ax0.set_aspect('equal')\n",
    "axs[0].set_title('Pressure')\n",
    "axs[1].set_title('Normal velocity')\n",
    "\n",
    "for ax in axs:\n",
    "    # Remove the ugly ticks\n",
    "    ax.tick_params(\n",
    "        which='both',      # both major and minor ticks are affected\n",
    "        bottom=False,      # ticks along the bottom edge are off\n",
    "        top=False,        # ticks along the top edge are off\n",
    "        left=False,        # ticks along the top edge are off\n",
    "        right=False        # ticks along the top edge are off\n",
    "    )\n",
    "    ax.xaxis.set_label_text('Horizontal location [m]')"
   ]
  },
  {
   "cell_type": "markdown",
   "metadata": {},
   "source": [
    "## Create wavefield animation"
   ]
  },
  {
   "cell_type": "code",
   "execution_count": null,
   "metadata": {},
   "outputs": [],
   "source": [
    "blit = True\n",
    "interval = 50\n",
    "nframes = 100\n",
    "\n",
    "def init():\n",
    "    im0.set_array(slicealpha[0, ...].T)\n",
    "    axs[0].scatter(srec_locs[5::10, 0]*dx, srec_locs[5::10, 2]*dz, color='k')\n",
    "    im1.set_array(np.zeros_like(outputs['sub_volume_boundary'][0,  :100, :]))\n",
    "    return im0, im1,\n",
    "\n",
    "def snap(i, snap, vb):\n",
    "    im0.set_array(snap[i, ...].T)\n",
    "    temp = im1.get_array()\n",
    "    # print(temp.shape)\n",
    "    temp[i, ...] = vb[i, ...]\n",
    "    im1.set_array(temp)\n",
    "    # Set title\n",
    "    title0 = axs[0].title.set_text('Pressure (t:{0:.4})'.format(i*dt*10))\n",
    "    return im0, im1,\n",
    "\n",
    "anim = animation.FuncAnimation(fig, snap, init_func=init,\n",
    "                              fargs=(slicealpha, outputs['sub_volume_boundary'][0,  :100, :]), frames=nframes,\n",
    "                              blit=blit, interval=interval, repeat=True)"
   ]
  },
  {
   "cell_type": "code",
   "execution_count": null,
   "metadata": {
    "scrolled": true
   },
   "outputs": [],
   "source": [
    "HTML(anim.to_html5_video())\n",
    "# HTML(anim.to_jshtml())"
   ]
  }
 ],
 "metadata": {
  "kernelspec": {
   "display_name": "Python (ent2)",
   "language": "python",
   "name": "ent2"
  },
  "language_info": {
   "codemirror_mode": {
    "name": "ipython",
    "version": 3
   },
   "file_extension": ".py",
   "mimetype": "text/x-python",
   "name": "python",
   "nbconvert_exporter": "python",
   "pygments_lexer": "ipython3",
   "version": "3.6.6"
  }
 },
 "nbformat": 4,
 "nbformat_minor": 2
}
